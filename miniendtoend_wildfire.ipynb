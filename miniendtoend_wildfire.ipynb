{
 "cells": [
  {
   "cell_type": "markdown",
   "id": "071be120",
   "metadata": {},
   "source": [
    "# Mini end-to-end: Wildfire Dataset\n",
    "\n",
    "Goal: Load `Wildfire_Dataset.csv` (large) and run sampled EDA to avoid memory issues."
   ]
  },
  {
   "cell_type": "markdown",
   "id": "0ce4211c",
   "metadata": {},
   "source": [
    "## 1. Import libraries"
   ]
  },
  {
   "cell_type": "code",
   "execution_count": 1,
   "id": "6da3a1f7",
   "metadata": {},
   "outputs": [],
   "source": [
    "import numpy as np\n",
    "import pandas as pd\n",
    "import matplotlib.pyplot as plt\n",
    "import seaborn as sns\n",
    "sns.set_theme(style=\"whitegrid\")"
   ]
  },
  {
   "cell_type": "markdown",
   "id": "46bff259",
   "metadata": {},
   "source": [
    "**Insight:** Full wildfire dataset contains 9,509,925 rows and 19 columns (aggregated in chunks).\n",
    "This notebook operates on a sample for speed, but these are the full-data totals."
   ]
  },
  {
   "cell_type": "markdown",
   "id": "ea92460e",
   "metadata": {},
   "source": [
    "## 2. Load a sampled portion of the large CSV"
   ]
  },
  {
   "cell_type": "code",
   "execution_count": 2,
   "id": "1aa55448",
   "metadata": {},
   "outputs": [
    {
     "name": "stdout",
     "output_type": "stream",
     "text": [
      "Loaded sample shape: (50000, 19)\n"
     ]
    },
    {
     "data": {
      "text/html": [
       "<div>\n",
       "<style scoped>\n",
       "    .dataframe tbody tr th:only-of-type {\n",
       "        vertical-align: middle;\n",
       "    }\n",
       "\n",
       "    .dataframe tbody tr th {\n",
       "        vertical-align: top;\n",
       "    }\n",
       "\n",
       "    .dataframe thead th {\n",
       "        text-align: right;\n",
       "    }\n",
       "</style>\n",
       "<table border=\"1\" class=\"dataframe\">\n",
       "  <thead>\n",
       "    <tr style=\"text-align: right;\">\n",
       "      <th></th>\n",
       "      <th>latitude</th>\n",
       "      <th>longitude</th>\n",
       "      <th>datetime</th>\n",
       "      <th>Wildfire</th>\n",
       "      <th>pr</th>\n",
       "      <th>rmax</th>\n",
       "      <th>rmin</th>\n",
       "      <th>sph</th>\n",
       "      <th>srad</th>\n",
       "      <th>tmmn</th>\n",
       "      <th>tmmx</th>\n",
       "      <th>vs</th>\n",
       "      <th>bi</th>\n",
       "      <th>fm100</th>\n",
       "      <th>fm1000</th>\n",
       "      <th>erc</th>\n",
       "      <th>etr</th>\n",
       "      <th>pet</th>\n",
       "      <th>vpd</th>\n",
       "    </tr>\n",
       "  </thead>\n",
       "  <tbody>\n",
       "    <tr>\n",
       "      <th>75721</th>\n",
       "      <td>46.092780</td>\n",
       "      <td>-100.662780</td>\n",
       "      <td>2018-04-26</td>\n",
       "      <td>No</td>\n",
       "      <td>0.0</td>\n",
       "      <td>69.8</td>\n",
       "      <td>22.2</td>\n",
       "      <td>0.00400</td>\n",
       "      <td>282.8</td>\n",
       "      <td>278.0</td>\n",
       "      <td>293.4</td>\n",
       "      <td>5.6</td>\n",
       "      <td>47.0</td>\n",
       "      <td>13.1</td>\n",
       "      <td>16.6</td>\n",
       "      <td>38.0</td>\n",
       "      <td>7.6</td>\n",
       "      <td>5.3</td>\n",
       "      <td>1.01</td>\n",
       "    </tr>\n",
       "    <tr>\n",
       "      <th>80184</th>\n",
       "      <td>46.963300</td>\n",
       "      <td>-115.329000</td>\n",
       "      <td>2015-05-17</td>\n",
       "      <td>No</td>\n",
       "      <td>0.0</td>\n",
       "      <td>89.9</td>\n",
       "      <td>49.5</td>\n",
       "      <td>0.00553</td>\n",
       "      <td>208.8</td>\n",
       "      <td>276.6</td>\n",
       "      <td>286.4</td>\n",
       "      <td>5.2</td>\n",
       "      <td>32.0</td>\n",
       "      <td>17.1</td>\n",
       "      <td>16.9</td>\n",
       "      <td>28.0</td>\n",
       "      <td>3.8</td>\n",
       "      <td>3.0</td>\n",
       "      <td>0.38</td>\n",
       "    </tr>\n",
       "    <tr>\n",
       "      <th>19864</th>\n",
       "      <td>40.066983</td>\n",
       "      <td>-108.190000</td>\n",
       "      <td>2020-06-01</td>\n",
       "      <td>No</td>\n",
       "      <td>0.0</td>\n",
       "      <td>67.9</td>\n",
       "      <td>14.8</td>\n",
       "      <td>0.00565</td>\n",
       "      <td>320.5</td>\n",
       "      <td>279.9</td>\n",
       "      <td>304.2</td>\n",
       "      <td>5.1</td>\n",
       "      <td>74.0</td>\n",
       "      <td>7.4</td>\n",
       "      <td>8.6</td>\n",
       "      <td>74.0</td>\n",
       "      <td>11.6</td>\n",
       "      <td>8.1</td>\n",
       "      <td>2.01</td>\n",
       "    </tr>\n",
       "    <tr>\n",
       "      <th>76699</th>\n",
       "      <td>34.929722</td>\n",
       "      <td>-98.133889</td>\n",
       "      <td>2016-03-27</td>\n",
       "      <td>No</td>\n",
       "      <td>0.0</td>\n",
       "      <td>99.5</td>\n",
       "      <td>34.4</td>\n",
       "      <td>0.00418</td>\n",
       "      <td>227.0</td>\n",
       "      <td>273.4</td>\n",
       "      <td>288.6</td>\n",
       "      <td>5.0</td>\n",
       "      <td>41.0</td>\n",
       "      <td>14.8</td>\n",
       "      <td>15.2</td>\n",
       "      <td>38.0</td>\n",
       "      <td>4.5</td>\n",
       "      <td>3.2</td>\n",
       "      <td>0.57</td>\n",
       "    </tr>\n",
       "    <tr>\n",
       "      <th>92991</th>\n",
       "      <td>40.852950</td>\n",
       "      <td>-122.437100</td>\n",
       "      <td>2020-04-24</td>\n",
       "      <td>Yes</td>\n",
       "      <td>0.0</td>\n",
       "      <td>64.6</td>\n",
       "      <td>26.6</td>\n",
       "      <td>0.00661</td>\n",
       "      <td>292.2</td>\n",
       "      <td>285.4</td>\n",
       "      <td>301.2</td>\n",
       "      <td>2.3</td>\n",
       "      <td>32.0</td>\n",
       "      <td>9.6</td>\n",
       "      <td>15.1</td>\n",
       "      <td>45.0</td>\n",
       "      <td>6.9</td>\n",
       "      <td>5.3</td>\n",
       "      <td>1.60</td>\n",
       "    </tr>\n",
       "  </tbody>\n",
       "</table>\n",
       "</div>"
      ],
      "text/plain": [
       "        latitude   longitude    datetime Wildfire   pr  rmax  rmin      sph  \\\n",
       "75721  46.092780 -100.662780  2018-04-26       No  0.0  69.8  22.2  0.00400   \n",
       "80184  46.963300 -115.329000  2015-05-17       No  0.0  89.9  49.5  0.00553   \n",
       "19864  40.066983 -108.190000  2020-06-01       No  0.0  67.9  14.8  0.00565   \n",
       "76699  34.929722  -98.133889  2016-03-27       No  0.0  99.5  34.4  0.00418   \n",
       "92991  40.852950 -122.437100  2020-04-24      Yes  0.0  64.6  26.6  0.00661   \n",
       "\n",
       "        srad   tmmn   tmmx   vs    bi  fm100  fm1000   erc   etr  pet   vpd  \n",
       "75721  282.8  278.0  293.4  5.6  47.0   13.1    16.6  38.0   7.6  5.3  1.01  \n",
       "80184  208.8  276.6  286.4  5.2  32.0   17.1    16.9  28.0   3.8  3.0  0.38  \n",
       "19864  320.5  279.9  304.2  5.1  74.0    7.4     8.6  74.0  11.6  8.1  2.01  \n",
       "76699  227.0  273.4  288.6  5.0  41.0   14.8    15.2  38.0   4.5  3.2  0.57  \n",
       "92991  292.2  285.4  301.2  2.3  32.0    9.6    15.1  45.0   6.9  5.3  1.60  "
      ]
     },
     "execution_count": 2,
     "metadata": {},
     "output_type": "execute_result"
    }
   ],
   "source": [
    "# Read in chunks and take a 100k-row sample (or first chunk if smaller)\n",
    "import os\n",
    "file_path = 'Wildfire_Dataset.csv'\n",
    "if os.path.exists(file_path):\n",
    "    it = pd.read_csv(file_path, chunksize=100000)\n",
    "    try:\n",
    "        chunk = next(it)\n",
    "        df = chunk.sample(frac=0.5, random_state=42)  # sample half of first chunk\n",
    "    except StopIteration:\n",
    "        df = pd.read_csv(file_path)\n",
    "else:\n",
    "    df = pd.DataFrame()\n",
    "print('Loaded sample shape:', df.shape)\n",
    "df.head()"
   ]
  },
  {
   "cell_type": "markdown",
   "id": "fcd72464",
   "metadata": {},
   "source": [
    "**Insight:** Missingness across the full dataset is negligible for the top variables: latitude, longitude, datetime, Wildfire, pr, rmax, rmin, etc. (all zero missing in the aggregated counts).\n",
    "Latitude range ≈ [25.26027, 48.99873], Longitude range ≈ [-124.437, -67.0125]."
   ]
  },
  {
   "cell_type": "markdown",
   "id": "969f4e36",
   "metadata": {},
   "source": [
    "## 3. Quick overview"
   ]
  },
  {
   "cell_type": "code",
   "execution_count": 3,
   "id": "b2bb2d05",
   "metadata": {},
   "outputs": [
    {
     "name": "stdout",
     "output_type": "stream",
     "text": [
      "Shape: (50000, 19)\n",
      "<class 'pandas.core.frame.DataFrame'>\n",
      "Index: 50000 entries, 75721 to 58540\n",
      "Data columns (total 19 columns):\n",
      " #   Column     Non-Null Count  Dtype  \n",
      "---  ------     --------------  -----  \n",
      " 0   latitude   50000 non-null  float64\n",
      " 1   longitude  50000 non-null  float64\n",
      " 2   datetime   50000 non-null  object \n",
      " 3   Wildfire   50000 non-null  object \n",
      " 4   pr         50000 non-null  float64\n",
      " 5   rmax       50000 non-null  float64\n",
      " 6   rmin       50000 non-null  float64\n",
      " 7   sph        50000 non-null  float64\n",
      " 8   srad       50000 non-null  float64\n",
      " 9   tmmn       50000 non-null  float64\n",
      " 10  tmmx       50000 non-null  float64\n",
      " 11  vs         50000 non-null  float64\n",
      " 12  bi         50000 non-null  float64\n",
      " 13  fm100      50000 non-null  float64\n",
      " 14  fm1000     50000 non-null  float64\n",
      " 15  erc        50000 non-null  float64\n",
      " 16  etr        50000 non-null  float64\n",
      " 17  pet        50000 non-null  float64\n",
      " 18  vpd        50000 non-null  float64\n",
      "dtypes: float64(17), object(2)\n",
      "memory usage: 7.6+ MB\n",
      "None\n",
      "latitude     0\n",
      "longitude    0\n",
      "datetime     0\n",
      "Wildfire     0\n",
      "pr           0\n",
      "rmax         0\n",
      "rmin         0\n",
      "sph          0\n",
      "srad         0\n",
      "tmmn         0\n",
      "tmmx         0\n",
      "vs           0\n",
      "bi           0\n",
      "fm100        0\n",
      "fm1000       0\n",
      "erc          0\n",
      "etr          0\n",
      "pet          0\n",
      "vpd          0\n",
      "dtype: int64\n",
      "            latitude     longitude    datetime Wildfire            pr  \\\n",
      "count   50000.000000  50000.000000       50000    50000  50000.000000   \n",
      "unique           NaN           NaN        4073        2           NaN   \n",
      "top              NaN           NaN  2014-07-30       No           NaN   \n",
      "freq             NaN           NaN          45    47474           NaN   \n",
      "mean       39.244079   -106.355953         NaN      NaN     52.254792   \n",
      "std         5.285709     14.610739         NaN      NaN   1284.837861   \n",
      "min        25.746903   -124.211867         NaN      NaN      0.000000   \n",
      "25%        34.801530   -118.359700         NaN      NaN      0.000000   \n",
      "50%        38.739345   -110.595100         NaN      NaN      0.000000   \n",
      "75%        43.753800    -95.973889         NaN      NaN      0.300000   \n",
      "max        48.914500    -67.152500         NaN      NaN  32767.000000   \n",
      "\n",
      "                rmax          rmin           sph          srad          tmmn  \\\n",
      "count   50000.000000  50000.000000  50000.000000  50000.000000  50000.000000   \n",
      "unique           NaN           NaN           NaN           NaN           NaN   \n",
      "top              NaN           NaN           NaN           NaN           NaN   \n",
      "freq             NaN           NaN           NaN           NaN           NaN   \n",
      "mean      127.187794     84.608188     50.467418    273.811154    330.611322   \n",
      "std      1282.043538   1283.683384   1284.892036   1279.108424   1273.918981   \n",
      "min        10.700000      1.000000      0.000180      0.000000    236.000000   \n",
      "25%        63.100000     19.900000      0.003700    151.000000    275.100000   \n",
      "50%        80.900000     31.600000      0.005670    231.600000    281.400000   \n",
      "75%        95.600000     46.400000      0.008010    301.200000    286.500000   \n",
      "max     32767.000000  32767.000000  32767.000000  32767.000000  32767.000000   \n",
      "\n",
      "                tmmx          vs            bi         fm100        fm1000  \\\n",
      "count   50000.000000  50000.0000  50000.000000  50000.000000  50000.000000   \n",
      "unique           NaN         NaN           NaN           NaN           NaN   \n",
      "top              NaN         NaN           NaN           NaN           NaN   \n",
      "freq             NaN         NaN           NaN           NaN           NaN   \n",
      "mean      344.511690     54.1999     83.139520     63.384652     65.137418   \n",
      "std      1273.383716   1284.7465   1283.827323   1284.394243   1284.326289   \n",
      "min       247.100000      0.5000      0.000000      1.600000      2.700000   \n",
      "25%       288.300000      2.6000     18.000000      8.900000     10.600000   \n",
      "50%       295.800000      3.4000     33.000000     13.100000     15.100000   \n",
      "75%       301.900000      4.6000     48.000000     16.700000     18.500000   \n",
      "max     32767.000000  32767.0000  32767.000000  32767.000000  32767.000000   \n",
      "\n",
      "                 erc           etr           pet           vpd  \n",
      "count   50000.000000  50000.000000  50000.000000  50000.000000  \n",
      "unique           NaN           NaN           NaN           NaN  \n",
      "top              NaN           NaN           NaN           NaN  \n",
      "freq             NaN           NaN           NaN           NaN  \n",
      "mean       93.022820     56.101392     54.616250     51.581981  \n",
      "std      1283.443507   1284.674379   1284.730995   1284.848563  \n",
      "min         0.000000      0.000000      0.000000      0.000000  \n",
      "25%        24.000000      3.300000      2.300000      0.470000  \n",
      "50%        38.000000      5.500000      4.100000      0.920000  \n",
      "75%        59.000000      7.700000      5.800000      1.550000  \n",
      "max     32767.000000  32767.000000  32767.000000  32767.000000  \n"
     ]
    }
   ],
   "source": [
    "print('Shape:', df.shape)\n",
    "print(df.info())\n",
    "print(df.isnull().sum())\n",
    "print(df.describe(include='all'))"
   ]
  },
  {
   "cell_type": "markdown",
   "id": "1b612d7d",
   "metadata": {},
   "source": [
    "**Insight:** Overview outputs show available columns, missing data, and summary stats from the sample.\n",
    "Use these to decide which columns are useful for spatial and temporal analysis (latitude/longitude/datetime)."
   ]
  },
  {
   "cell_type": "markdown",
   "id": "7755d217",
   "metadata": {},
   "source": [
    "## 4. Basic EDA"
   ]
  },
  {
   "cell_type": "code",
   "execution_count": 4,
   "id": "e44211f2",
   "metadata": {},
   "outputs": [
    {
     "data": {
      "image/png": "[encoded data removed]",
      "text/plain": [
       "<Figure size 1000x400 with 1 Axes>"
      ]
     },
     "metadata": {},
     "output_type": "display_data"
    }
   ],
   "source": [
    "# Show top value counts for likely categorical columns if present\n",
    "for c in ['state','cause','fire_type','year']:\n",
    "    if c in df.columns:\n",
    "        print('Top values for',c)\n",
    "        print(df[c].value_counts().head(10))\n",
    "\n",
    "# Numeric histograms\n",
    "num_cols = df.select_dtypes(include=[np.number]).columns\n",
    "plt.figure(figsize=(10,4))\n",
    "if len(num_cols)>0:\n",
    "    sns.histplot(df[num_cols[0]].dropna(), bins=30)\n",
    "    plt.title(num_cols[0])\n",
    "    plt.show()\n",
    "else:\n",
    "    print('No numeric columns detected in sample')"
   ]
  },
  {
   "cell_type": "markdown",
   "id": "575ae2da",
   "metadata": {},
   "source": [
    "**Insight:** Detected text columns (full file sample): `datetime`, `Wildfire`. Parse `datetime` to a datetime dtype for time-based analysis and treat `Wildfire` as event labels."
   ]
  },
  {
   "cell_type": "markdown",
   "id": "e772ce2b",
   "metadata": {},
   "source": [
    "## 5. Save sample for later work"
   ]
  },
  {
   "cell_type": "code",
   "execution_count": 5,
   "id": "fe85137d",
   "metadata": {},
   "outputs": [
    {
     "name": "stdout",
     "output_type": "stream",
     "text": [
      "Saved sample to Wildfire_Dataset_sample.csv\n"
     ]
    }
   ],
   "source": [
    "df.to_csv('Wildfire_Dataset_sample.csv', index=False)\n",
    "print('Saved sample to Wildfire_Dataset_sample.csv')"
   ]
  },
  {
   "cell_type": "markdown",
   "id": "07bb2c73",
   "metadata": {},
   "source": [
    "**Insight:** Saves the sampled wildfire data for more detailed geospatial analysis later (mapping, time series, aggregations)."
   ]
  }
 ],
 "metadata": {
  "kernelspec": {
   "display_name": "Python 3",
   "language": "python",
   "name": "python3"
  },
  "language_info": {
   "codemirror_mode": {
    "name": "ipython",
    "version": 3
   },
   "file_extension": ".py",
   "mimetype": "text/x-python",
   "name": "python",
   "nbconvert_exporter": "python",
   "pygments_lexer": "ipython3",
   "version": "3.13.5"
  }
 },
 "nbformat": 4,
 "nbformat_minor": 5
}
